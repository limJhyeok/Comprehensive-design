{
 "cells": [
  {
   "cell_type": "code",
   "execution_count": 1,
   "id": "57adad03",
   "metadata": {
    "scrolled": true
   },
   "outputs": [],
   "source": [
    "import geopandas as gpd\n",
    "from shapely.geometry import Polygon, LineString, Point\n",
    "import pandas as pd\n",
    "from pandas import Series, DataFrame\n",
    "import matplotlib.pyplot as plt\n",
    "import matplotlib \n",
    "import matplotlib.font_manager as fm\n",
    "import random, copy\n",
    "\n",
    "font_name = fm.FontProperties(fname = 'C:/Windows/Fonts/malgun.ttf').get_name()\n",
    "matplotlib.rc('font', family = font_name)\n"
   ]
  },
  {
   "cell_type": "code",
   "execution_count": 2,
   "id": "59af2ef1",
   "metadata": {
    "scrolled": false
   },
   "outputs": [
    {
     "data": {
      "text/html": [
       "<div>\n",
       "<style scoped>\n",
       "    .dataframe tbody tr th:only-of-type {\n",
       "        vertical-align: middle;\n",
       "    }\n",
       "\n",
       "    .dataframe tbody tr th {\n",
       "        vertical-align: top;\n",
       "    }\n",
       "\n",
       "    .dataframe thead th {\n",
       "        text-align: right;\n",
       "    }\n",
       "</style>\n",
       "<table border=\"1\" class=\"dataframe\">\n",
       "  <thead>\n",
       "    <tr style=\"text-align: right;\">\n",
       "      <th></th>\n",
       "      <th>EMD_CD</th>\n",
       "      <th>EMD_NM</th>\n",
       "      <th>SGG_OID</th>\n",
       "      <th>COL_ADM_SE</th>\n",
       "      <th>GID</th>\n",
       "      <th>유동인</th>\n",
       "      <th>geometry</th>\n",
       "    </tr>\n",
       "  </thead>\n",
       "  <tbody>\n",
       "    <tr>\n",
       "      <th>0</th>\n",
       "      <td>28177103</td>\n",
       "      <td>학익동</td>\n",
       "      <td>692</td>\n",
       "      <td>28177</td>\n",
       "      <td>5255</td>\n",
       "      <td>235849</td>\n",
       "      <td>POLYGON ((126.65985 37.44940, 126.65967 37.449...</td>\n",
       "    </tr>\n",
       "    <tr>\n",
       "      <th>1</th>\n",
       "      <td>28177106</td>\n",
       "      <td>관교동</td>\n",
       "      <td>693</td>\n",
       "      <td>28177</td>\n",
       "      <td>5256</td>\n",
       "      <td>113092</td>\n",
       "      <td>POLYGON ((126.68526 37.44269, 126.68505 37.442...</td>\n",
       "    </tr>\n",
       "    <tr>\n",
       "      <th>2</th>\n",
       "      <td>28177102</td>\n",
       "      <td>용현동</td>\n",
       "      <td>694</td>\n",
       "      <td>28177</td>\n",
       "      <td>5257</td>\n",
       "      <td>273192</td>\n",
       "      <td>POLYGON ((126.63911 37.46070, 126.64074 37.460...</td>\n",
       "    </tr>\n",
       "    <tr>\n",
       "      <th>3</th>\n",
       "      <td>28177104</td>\n",
       "      <td>도화동</td>\n",
       "      <td>695</td>\n",
       "      <td>28177</td>\n",
       "      <td>5258</td>\n",
       "      <td>155309</td>\n",
       "      <td>POLYGON ((126.67437 37.47561, 126.67412 37.471...</td>\n",
       "    </tr>\n",
       "    <tr>\n",
       "      <th>4</th>\n",
       "      <td>28177107</td>\n",
       "      <td>문학동</td>\n",
       "      <td>696</td>\n",
       "      <td>28177</td>\n",
       "      <td>5259</td>\n",
       "      <td>68927</td>\n",
       "      <td>POLYGON ((126.69052 37.44324, 126.69075 37.442...</td>\n",
       "    </tr>\n",
       "  </tbody>\n",
       "</table>\n",
       "</div>"
      ],
      "text/plain": [
       "     EMD_CD EMD_NM  SGG_OID COL_ADM_SE   GID     유동인  \\\n",
       "0  28177103    학익동      692      28177  5255  235849   \n",
       "1  28177106    관교동      693      28177  5256  113092   \n",
       "2  28177102    용현동      694      28177  5257  273192   \n",
       "3  28177104    도화동      695      28177  5258  155309   \n",
       "4  28177107    문학동      696      28177  5259   68927   \n",
       "\n",
       "                                            geometry  \n",
       "0  POLYGON ((126.65985 37.44940, 126.65967 37.449...  \n",
       "1  POLYGON ((126.68526 37.44269, 126.68505 37.442...  \n",
       "2  POLYGON ((126.63911 37.46070, 126.64074 37.460...  \n",
       "3  POLYGON ((126.67437 37.47561, 126.67412 37.471...  \n",
       "4  POLYGON ((126.69052 37.44324, 126.69075 37.442...  "
      ]
     },
     "execution_count": 2,
     "metadata": {},
     "output_type": "execute_result"
    }
   ],
   "source": [
    "polygon_area = gpd.GeoDataFrame.from_file('미추홀구.shp', encoding='UTF8')\n",
    "charger_point = pd.read_excel('미추홀구 전기차 충전소 위치.xlsx', dtype=str)\n",
    "data=pd.read_excel('최종 통합 자료.xlsx', dtype=None)\n",
    "norm_data =pd.read_excel('최종 데이터 통합본 (정규화).xlsx', dtype=None)\n",
    "mid_point = data[['gid(격자)', 'xcoord(중심점 경도)', 'ycoord(중심점 위도)']]\n",
    "polygon_area.head()"
   ]
  },
  {
   "cell_type": "code",
   "execution_count": 3,
   "id": "29c79086",
   "metadata": {
    "scrolled": true
   },
   "outputs": [
    {
     "data": {
      "text/html": [
       "<div>\n",
       "<style scoped>\n",
       "    .dataframe tbody tr th:only-of-type {\n",
       "        vertical-align: middle;\n",
       "    }\n",
       "\n",
       "    .dataframe tbody tr th {\n",
       "        vertical-align: top;\n",
       "    }\n",
       "\n",
       "    .dataframe thead th {\n",
       "        text-align: right;\n",
       "    }\n",
       "</style>\n",
       "<table border=\"1\" class=\"dataframe\">\n",
       "  <thead>\n",
       "    <tr style=\"text-align: right;\">\n",
       "      <th></th>\n",
       "      <th>gid(격자)</th>\n",
       "      <th>xcoord(중심점 경도)</th>\n",
       "      <th>ycoord(중심점 위도)</th>\n",
       "      <th>가장 가까운 충전소</th>\n",
       "      <th>xcoord(충전소 경도)</th>\n",
       "      <th>ycoord(충전소 위도)</th>\n",
       "      <th>최근접 충전소 거리(km)</th>\n",
       "      <th>고정인구수</th>\n",
       "      <th>유동인구수</th>\n",
       "      <th>연면적의 합</th>\n",
       "      <th>충전소 이용률</th>\n",
       "      <th>공공시설</th>\n",
       "      <th>관광지</th>\n",
       "      <th>교통시설</th>\n",
       "      <th>상업시설</th>\n",
       "      <th>주거지</th>\n",
       "      <th>편의시설</th>\n",
       "    </tr>\n",
       "  </thead>\n",
       "  <tbody>\n",
       "    <tr>\n",
       "      <th>0</th>\n",
       "      <td>다사2238</td>\n",
       "      <td>126.623885861657</td>\n",
       "      <td>37.4424331231925</td>\n",
       "      <td>용현금호2차 아파트</td>\n",
       "      <td>126.6238858616579</td>\n",
       "      <td>37.44243312319252</td>\n",
       "      <td>1.077075824993255</td>\n",
       "      <td>NaN</td>\n",
       "      <td>101.65421282691703</td>\n",
       "      <td>NaN</td>\n",
       "      <td>NaN</td>\n",
       "      <td>NaN</td>\n",
       "      <td>NaN</td>\n",
       "      <td>NaN</td>\n",
       "      <td>NaN</td>\n",
       "      <td>NaN</td>\n",
       "      <td>NaN</td>\n",
       "    </tr>\n",
       "    <tr>\n",
       "      <th>1</th>\n",
       "      <td>다사2239</td>\n",
       "      <td>126.623780747964</td>\n",
       "      <td>37.4514458143066</td>\n",
       "      <td>용현금호2차 아파트</td>\n",
       "      <td>126.6237807479642</td>\n",
       "      <td>37.45144581430667</td>\n",
       "      <td>0.8975703114652854</td>\n",
       "      <td>NaN</td>\n",
       "      <td>138.32454431107928</td>\n",
       "      <td>NaN</td>\n",
       "      <td>NaN</td>\n",
       "      <td>NaN</td>\n",
       "      <td>NaN</td>\n",
       "      <td>NaN</td>\n",
       "      <td>NaN</td>\n",
       "      <td>NaN</td>\n",
       "      <td>NaN</td>\n",
       "    </tr>\n",
       "    <tr>\n",
       "      <th>2</th>\n",
       "      <td>다사2337</td>\n",
       "      <td>126.635293086166</td>\n",
       "      <td>37.4335036432068</td>\n",
       "      <td>용현금호2차 아파트</td>\n",
       "      <td>126.6352930861662</td>\n",
       "      <td>37.43350364320687</td>\n",
       "      <td>1.685552715916839</td>\n",
       "      <td>0</td>\n",
       "      <td>26038.13374168579</td>\n",
       "      <td>2084.78999999999</td>\n",
       "      <td>NaN</td>\n",
       "      <td>NaN</td>\n",
       "      <td>NaN</td>\n",
       "      <td>NaN</td>\n",
       "      <td>NaN</td>\n",
       "      <td>NaN</td>\n",
       "      <td>NaN</td>\n",
       "    </tr>\n",
       "    <tr>\n",
       "      <th>3</th>\n",
       "      <td>다사2338</td>\n",
       "      <td>126.635189374415</td>\n",
       "      <td>37.4425163753078</td>\n",
       "      <td>용현금호2차 아파트</td>\n",
       "      <td>126.6351893744153</td>\n",
       "      <td>37.44251637530782</td>\n",
       "      <td>0.6966460858061414</td>\n",
       "      <td>1919</td>\n",
       "      <td>47121.77307848651</td>\n",
       "      <td>1431.73</td>\n",
       "      <td>NaN</td>\n",
       "      <td>NaN</td>\n",
       "      <td>NaN</td>\n",
       "      <td>NaN</td>\n",
       "      <td>NaN</td>\n",
       "      <td>NaN</td>\n",
       "      <td>NaN</td>\n",
       "    </tr>\n",
       "    <tr>\n",
       "      <th>4</th>\n",
       "      <td>다사2339</td>\n",
       "      <td>126.63508561647</td>\n",
       "      <td>37.4515290933854</td>\n",
       "      <td>용현금호2차 아파트</td>\n",
       "      <td>126.6350856164703</td>\n",
       "      <td>37.45152909338542</td>\n",
       "      <td>0.3617391975018021</td>\n",
       "      <td>25776</td>\n",
       "      <td>52223.82712418825</td>\n",
       "      <td>1004.75</td>\n",
       "      <td>NaN</td>\n",
       "      <td>NaN</td>\n",
       "      <td>NaN</td>\n",
       "      <td>NaN</td>\n",
       "      <td>NaN</td>\n",
       "      <td>NaN</td>\n",
       "      <td>NaN</td>\n",
       "    </tr>\n",
       "  </tbody>\n",
       "</table>\n",
       "</div>"
      ],
      "text/plain": [
       "  gid(격자)    xcoord(중심점 경도)    ycoord(중심점 위도)  가장 가까운 충전소     xcoord(충전소 경도)  \\\n",
       "0  다사2238  126.623885861657  37.4424331231925  용현금호2차 아파트  126.6238858616579   \n",
       "1  다사2239  126.623780747964  37.4514458143066  용현금호2차 아파트  126.6237807479642   \n",
       "2  다사2337  126.635293086166  37.4335036432068  용현금호2차 아파트  126.6352930861662   \n",
       "3  다사2338  126.635189374415  37.4425163753078  용현금호2차 아파트  126.6351893744153   \n",
       "4  다사2339   126.63508561647  37.4515290933854  용현금호2차 아파트  126.6350856164703   \n",
       "\n",
       "      ycoord(충전소 위도)      최근접 충전소 거리(km)  고정인구수               유동인구수  \\\n",
       "0  37.44243312319252   1.077075824993255    NaN  101.65421282691703   \n",
       "1  37.45144581430667  0.8975703114652854    NaN  138.32454431107928   \n",
       "2  37.43350364320687   1.685552715916839      0   26038.13374168579   \n",
       "3  37.44251637530782  0.6966460858061414   1919   47121.77307848651   \n",
       "4  37.45152909338542  0.3617391975018021  25776   52223.82712418825   \n",
       "\n",
       "             연면적의 합 충전소 이용률 공공시설  관광지 교통시설 상업시설  주거지 편의시설  \n",
       "0               NaN     NaN  NaN  NaN  NaN  NaN  NaN  NaN  \n",
       "1               NaN     NaN  NaN  NaN  NaN  NaN  NaN  NaN  \n",
       "2  2084.78999999999     NaN  NaN  NaN  NaN  NaN  NaN  NaN  \n",
       "3           1431.73     NaN  NaN  NaN  NaN  NaN  NaN  NaN  \n",
       "4           1004.75     NaN  NaN  NaN  NaN  NaN  NaN  NaN  "
      ]
     },
     "execution_count": 3,
     "metadata": {},
     "output_type": "execute_result"
    }
   ],
   "source": [
    "data.head()"
   ]
  },
  {
   "cell_type": "code",
   "execution_count": 142,
   "id": "66b2a9bb",
   "metadata": {
    "scrolled": true
   },
   "outputs": [
    {
     "data": {
      "text/html": [
       "<div>\n",
       "<style scoped>\n",
       "    .dataframe tbody tr th:only-of-type {\n",
       "        vertical-align: middle;\n",
       "    }\n",
       "\n",
       "    .dataframe tbody tr th {\n",
       "        vertical-align: top;\n",
       "    }\n",
       "\n",
       "    .dataframe thead th {\n",
       "        text-align: right;\n",
       "    }\n",
       "</style>\n",
       "<table border=\"1\" class=\"dataframe\">\n",
       "  <thead>\n",
       "    <tr style=\"text-align: right;\">\n",
       "      <th></th>\n",
       "      <th>설치장소</th>\n",
       "      <th>주소</th>\n",
       "      <th>위도</th>\n",
       "      <th>경도</th>\n",
       "    </tr>\n",
       "  </thead>\n",
       "  <tbody>\n",
       "    <tr>\n",
       "      <th>0</th>\n",
       "      <td>관교쌍용 아파트</td>\n",
       "      <td>인천광역시 미추홀구 관교동 13-7</td>\n",
       "      <td>37.44269005</td>\n",
       "      <td>126.6952538</td>\n",
       "    </tr>\n",
       "    <tr>\n",
       "      <th>1</th>\n",
       "      <td>도화e편한세상</td>\n",
       "      <td>인천광역시 미추홀구 도화동 1009</td>\n",
       "      <td>37.47380127</td>\n",
       "      <td>126.6652051</td>\n",
       "    </tr>\n",
       "    <tr>\n",
       "      <th>2</th>\n",
       "      <td>문학호산 아파트</td>\n",
       "      <td>인천광역시 미추홀구 문학동 376-1</td>\n",
       "      <td>37.43740388</td>\n",
       "      <td>126.6827022</td>\n",
       "    </tr>\n",
       "    <tr>\n",
       "      <th>3</th>\n",
       "      <td>미추홀구청</td>\n",
       "      <td>인천광역시 미추홀구 숭의동 131-1</td>\n",
       "      <td>37.46360653</td>\n",
       "      <td>126.6503294</td>\n",
       "    </tr>\n",
       "    <tr>\n",
       "      <th>4</th>\n",
       "      <td>용현금호2차 아파트</td>\n",
       "      <td>인천광역시 미추홀구 용현동 647</td>\n",
       "      <td>37.44860553</td>\n",
       "      <td>126.6332784</td>\n",
       "    </tr>\n",
       "  </tbody>\n",
       "</table>\n",
       "</div>"
      ],
      "text/plain": [
       "         설치장소                    주소           위도           경도\n",
       "0    관교쌍용 아파트   인천광역시 미추홀구 관교동 13-7  37.44269005  126.6952538\n",
       "1     도화e편한세상   인천광역시 미추홀구 도화동 1009  37.47380127  126.6652051\n",
       "2    문학호산 아파트  인천광역시 미추홀구 문학동 376-1  37.43740388  126.6827022\n",
       "3       미추홀구청  인천광역시 미추홀구 숭의동 131-1  37.46360653  126.6503294\n",
       "4  용현금호2차 아파트    인천광역시 미추홀구 용현동 647  37.44860553  126.6332784"
      ]
     },
     "execution_count": 142,
     "metadata": {},
     "output_type": "execute_result"
    }
   ],
   "source": [
    "charger_point.head()"
   ]
  },
  {
   "cell_type": "code",
   "execution_count": 29,
   "id": "c6a0081a",
   "metadata": {},
   "outputs": [
    {
     "data": {
      "text/html": [
       "<div>\n",
       "<style scoped>\n",
       "    .dataframe tbody tr th:only-of-type {\n",
       "        vertical-align: middle;\n",
       "    }\n",
       "\n",
       "    .dataframe tbody tr th {\n",
       "        vertical-align: top;\n",
       "    }\n",
       "\n",
       "    .dataframe thead th {\n",
       "        text-align: right;\n",
       "    }\n",
       "</style>\n",
       "<table border=\"1\" class=\"dataframe\">\n",
       "  <thead>\n",
       "    <tr style=\"text-align: right;\">\n",
       "      <th></th>\n",
       "      <th>gid(격자)</th>\n",
       "      <th>xcoord(중심점 경도)</th>\n",
       "      <th>ycoord(중심점 위도)</th>\n",
       "    </tr>\n",
       "  </thead>\n",
       "  <tbody>\n",
       "    <tr>\n",
       "      <th>0</th>\n",
       "      <td>다사2337</td>\n",
       "      <td>126.635293</td>\n",
       "      <td>37.433504</td>\n",
       "    </tr>\n",
       "    <tr>\n",
       "      <th>1</th>\n",
       "      <td>다사2338</td>\n",
       "      <td>126.635189</td>\n",
       "      <td>37.442516</td>\n",
       "    </tr>\n",
       "    <tr>\n",
       "      <th>2</th>\n",
       "      <td>다사2339</td>\n",
       "      <td>126.635086</td>\n",
       "      <td>37.451529</td>\n",
       "    </tr>\n",
       "    <tr>\n",
       "      <th>3</th>\n",
       "      <td>다사2340</td>\n",
       "      <td>126.634982</td>\n",
       "      <td>37.460542</td>\n",
       "    </tr>\n",
       "    <tr>\n",
       "      <th>4</th>\n",
       "      <td>다사2437</td>\n",
       "      <td>126.646595</td>\n",
       "      <td>37.433586</td>\n",
       "    </tr>\n",
       "  </tbody>\n",
       "</table>\n",
       "</div>"
      ],
      "text/plain": [
       "  gid(격자)  xcoord(중심점 경도)  ycoord(중심점 위도)\n",
       "0  다사2337      126.635293       37.433504\n",
       "1  다사2338      126.635189       37.442516\n",
       "2  다사2339      126.635086       37.451529\n",
       "3  다사2340      126.634982       37.460542\n",
       "4  다사2437      126.646595       37.433586"
      ]
     },
     "execution_count": 29,
     "metadata": {},
     "output_type": "execute_result"
    }
   ],
   "source": [
    "mid_point.head()"
   ]
  },
  {
   "cell_type": "code",
   "execution_count": 68,
   "id": "e49daee2",
   "metadata": {
    "scrolled": true
   },
   "outputs": [
    {
     "name": "stdout",
     "output_type": "stream",
     "text": [
      "epsg:4326\n"
     ]
    }
   ],
   "source": [
    "#polygon_area의 좌표계\n",
    "print(polygon_area.crs)"
   ]
  },
  {
   "cell_type": "code",
   "execution_count": 3,
   "id": "ed8c069b",
   "metadata": {},
   "outputs": [
    {
     "name": "stderr",
     "output_type": "stream",
     "text": [
      "C:\\Users\\ljh68\\AppData\\Local\\Temp/ipykernel_11584/1603191097.py:8: SettingWithCopyWarning: \n",
      "A value is trying to be set on a copy of a slice from a DataFrame.\n",
      "Try using .loc[row_indexer,col_indexer] = value instead\n",
      "\n",
      "See the caveats in the documentation: https://pandas.pydata.org/pandas-docs/stable/user_guide/indexing.html#returning-a-view-versus-a-copy\n",
      "  mid_point['xcoord(중심점 경도)'] = mid_point['xcoord(중심점 경도)'].astype(float)\n",
      "C:\\Users\\ljh68\\AppData\\Local\\Temp/ipykernel_11584/1603191097.py:9: SettingWithCopyWarning: \n",
      "A value is trying to be set on a copy of a slice from a DataFrame.\n",
      "Try using .loc[row_indexer,col_indexer] = value instead\n",
      "\n",
      "See the caveats in the documentation: https://pandas.pydata.org/pandas-docs/stable/user_guide/indexing.html#returning-a-view-versus-a-copy\n",
      "  mid_point['ycoord(중심점 위도)'] = mid_point['ycoord(중심점 위도)'].astype(float)\n",
      "C:\\Users\\ljh68\\AppData\\Local\\Temp/ipykernel_11584/1603191097.py:10: SettingWithCopyWarning: \n",
      "A value is trying to be set on a copy of a slice from a DataFrame.\n",
      "Try using .loc[row_indexer,col_indexer] = value instead\n",
      "\n",
      "See the caveats in the documentation: https://pandas.pydata.org/pandas-docs/stable/user_guide/indexing.html#returning-a-view-versus-a-copy\n",
      "  mid_point['geometry'] = mid_point.apply(lambda row : Point([row['xcoord(중심점 경도)'], row['ycoord(중심점 위도)']]), axis=1)\n"
     ]
    },
    {
     "data": {
      "text/html": [
       "<div>\n",
       "<style scoped>\n",
       "    .dataframe tbody tr th:only-of-type {\n",
       "        vertical-align: middle;\n",
       "    }\n",
       "\n",
       "    .dataframe tbody tr th {\n",
       "        vertical-align: top;\n",
       "    }\n",
       "\n",
       "    .dataframe thead th {\n",
       "        text-align: right;\n",
       "    }\n",
       "</style>\n",
       "<table border=\"1\" class=\"dataframe\">\n",
       "  <thead>\n",
       "    <tr style=\"text-align: right;\">\n",
       "      <th></th>\n",
       "      <th>gid(격자)</th>\n",
       "      <th>xcoord(중심점 경도)</th>\n",
       "      <th>ycoord(중심점 위도)</th>\n",
       "      <th>geometry</th>\n",
       "    </tr>\n",
       "  </thead>\n",
       "  <tbody>\n",
       "    <tr>\n",
       "      <th>0</th>\n",
       "      <td>다사2337</td>\n",
       "      <td>126.635293</td>\n",
       "      <td>37.433504</td>\n",
       "      <td>POINT (126.63529 37.43350)</td>\n",
       "    </tr>\n",
       "    <tr>\n",
       "      <th>1</th>\n",
       "      <td>다사2338</td>\n",
       "      <td>126.635189</td>\n",
       "      <td>37.442516</td>\n",
       "      <td>POINT (126.63519 37.44252)</td>\n",
       "    </tr>\n",
       "    <tr>\n",
       "      <th>2</th>\n",
       "      <td>다사2339</td>\n",
       "      <td>126.635086</td>\n",
       "      <td>37.451529</td>\n",
       "      <td>POINT (126.63509 37.45153)</td>\n",
       "    </tr>\n",
       "    <tr>\n",
       "      <th>3</th>\n",
       "      <td>다사2340</td>\n",
       "      <td>126.634982</td>\n",
       "      <td>37.460542</td>\n",
       "      <td>POINT (126.63498 37.46054)</td>\n",
       "    </tr>\n",
       "    <tr>\n",
       "      <th>4</th>\n",
       "      <td>다사2437</td>\n",
       "      <td>126.646595</td>\n",
       "      <td>37.433586</td>\n",
       "      <td>POINT (126.64660 37.43359)</td>\n",
       "    </tr>\n",
       "  </tbody>\n",
       "</table>\n",
       "</div>"
      ],
      "text/plain": [
       "  gid(격자)  xcoord(중심점 경도)  ycoord(중심점 위도)                    geometry\n",
       "0  다사2337      126.635293       37.433504  POINT (126.63529 37.43350)\n",
       "1  다사2338      126.635189       37.442516  POINT (126.63519 37.44252)\n",
       "2  다사2339      126.635086       37.451529  POINT (126.63509 37.45153)\n",
       "3  다사2340      126.634982       37.460542  POINT (126.63498 37.46054)\n",
       "4  다사2437      126.646595       37.433586  POINT (126.64660 37.43359)"
      ]
     },
     "execution_count": 3,
     "metadata": {},
     "output_type": "execute_result"
    }
   ],
   "source": [
    "charger_point['경도'] = charger_point['경도'].astype(float)\n",
    "charger_point['위도'] = charger_point['위도'].astype(float)\n",
    "charger_point['geometry'] = charger_point.apply(lambda row : Point([row['경도'], row['위도']]), axis=1)\n",
    "charger_point= gpd.GeoDataFrame(charger_point, geometry='geometry')\n",
    "charger_point.head()\n",
    "\n",
    "\n",
    "mid_point['xcoord(중심점 경도)'] = mid_point['xcoord(중심점 경도)'].astype(float)\n",
    "mid_point['ycoord(중심점 위도)'] = mid_point['ycoord(중심점 위도)'].astype(float)\n",
    "mid_point['geometry'] = mid_point.apply(lambda row : Point([row['xcoord(중심점 경도)'], row['ycoord(중심점 위도)']]), axis=1)\n",
    "mid_point= gpd.GeoDataFrame(mid_point, geometry='geometry')\n",
    "mid_point.head()\n",
    "\n",
    "#충전소 위치와 격자 중심점의 위치정보를 geopandas 라이브러리를 이용하여 분석하기 위해 POINT좌표로 변환한다.\n",
    "\n"
   ]
  },
  {
   "cell_type": "code",
   "execution_count": 4,
   "id": "26b61c7a",
   "metadata": {},
   "outputs": [
    {
     "name": "stdout",
     "output_type": "stream",
     "text": [
      "+init=epsg:4326 +type=crs\n",
      "+init=epsg:4326 +type=crs\n",
      "epsg:5179\n",
      "epsg:5179\n",
      "epsg:5179\n"
     ]
    },
    {
     "name": "stderr",
     "output_type": "stream",
     "text": [
      "C:\\Users\\ljh68\\anaconda3\\lib\\site-packages\\pyproj\\crs\\crs.py:131: FutureWarning: '+init=<authority>:<code>' syntax is deprecated. '<authority>:<code>' is the preferred initialization method. When making the change, be mindful of axis order changes: https://pyproj4.github.io/pyproj/stable/gotchas.html#axis-order-changes-in-proj-6\n",
      "  in_crs_string = _prepare_from_proj_string(in_crs_string)\n"
     ]
    }
   ],
   "source": [
    "#EPSG4326(WGS84) : 위경도, 기본좌표계\n",
    "#EPSG5179(TM) : 미터 좌표계\n",
    "#EPSG5174(TM) : 미터 좌표계\n",
    "#EPSG5181(TM) : 미터 좌표계\n",
    "\n",
    "#충전소 좌표와 격자 중심점 좌표의 경우 위경도 기본좌표계인 EPSG4326을 사용하므로 이로 초기화한다.\n",
    "charger_point.crs = {'init':'epsg:4326'}\n",
    "mid_point.crs = {'init':'epsg:4326'}\n",
    "print(charger_point.crs)\n",
    "print(mid_point.crs)\n",
    "\n",
    "#일반적으로 미터 단위를 분석을 진행해야 하기 때문에 모든 지리정보를 EPSG5179로 변환한다.\n",
    "\n",
    "charger_point=charger_point.to_crs('epsg:5179')\n",
    "mid_point=mid_point.to_crs('epsg:5179')\n",
    "polygon_area = polygon_area.to_crs('epsg:5179')\n",
    "\n",
    "print(charger_point.crs)\n",
    "print(mid_point.crs)\n",
    "print(polygon_area.crs)"
   ]
  },
  {
   "cell_type": "code",
   "execution_count": 89,
   "id": "601f527c",
   "metadata": {},
   "outputs": [
    {
     "data": {
      "text/html": [
       "<div>\n",
       "<style scoped>\n",
       "    .dataframe tbody tr th:only-of-type {\n",
       "        vertical-align: middle;\n",
       "    }\n",
       "\n",
       "    .dataframe tbody tr th {\n",
       "        vertical-align: top;\n",
       "    }\n",
       "\n",
       "    .dataframe thead th {\n",
       "        text-align: right;\n",
       "    }\n",
       "</style>\n",
       "<table border=\"1\" class=\"dataframe\">\n",
       "  <thead>\n",
       "    <tr style=\"text-align: right;\">\n",
       "      <th></th>\n",
       "      <th>설치장소</th>\n",
       "      <th>주소</th>\n",
       "      <th>위도</th>\n",
       "      <th>경도</th>\n",
       "      <th>geometry</th>\n",
       "    </tr>\n",
       "  </thead>\n",
       "  <tbody>\n",
       "    <tr>\n",
       "      <th>0</th>\n",
       "      <td>관교쌍용 아파트</td>\n",
       "      <td>인천광역시 미추홀구 관교동 13-7</td>\n",
       "      <td>37.442690</td>\n",
       "      <td>126.695254</td>\n",
       "      <td>POINT (928813.479 1938472.185)</td>\n",
       "    </tr>\n",
       "    <tr>\n",
       "      <th>1</th>\n",
       "      <td>도화e편한세상</td>\n",
       "      <td>인천광역시 미추홀구 도화동 1009</td>\n",
       "      <td>37.473801</td>\n",
       "      <td>126.665205</td>\n",
       "      <td>POINT (926185.960 1941946.941)</td>\n",
       "    </tr>\n",
       "    <tr>\n",
       "      <th>2</th>\n",
       "      <td>문학호산 아파트</td>\n",
       "      <td>인천광역시 미추홀구 문학동 376-1</td>\n",
       "      <td>37.437404</td>\n",
       "      <td>126.682702</td>\n",
       "      <td>POINT (927698.079 1937895.269)</td>\n",
       "    </tr>\n",
       "    <tr>\n",
       "      <th>3</th>\n",
       "      <td>미추홀구청</td>\n",
       "      <td>인천광역시 미추홀구 숭의동 131-1</td>\n",
       "      <td>37.463607</td>\n",
       "      <td>126.650329</td>\n",
       "      <td>POINT (924860.395 1940827.647)</td>\n",
       "    </tr>\n",
       "    <tr>\n",
       "      <th>4</th>\n",
       "      <td>용현금호2차 아파트</td>\n",
       "      <td>인천광역시 미추홀구 용현동 647</td>\n",
       "      <td>37.448606</td>\n",
       "      <td>126.633278</td>\n",
       "      <td>POINT (923337.168 1939177.098)</td>\n",
       "    </tr>\n",
       "  </tbody>\n",
       "</table>\n",
       "</div>"
      ],
      "text/plain": [
       "         설치장소                    주소         위도          경도  \\\n",
       "0    관교쌍용 아파트   인천광역시 미추홀구 관교동 13-7  37.442690  126.695254   \n",
       "1     도화e편한세상   인천광역시 미추홀구 도화동 1009  37.473801  126.665205   \n",
       "2    문학호산 아파트  인천광역시 미추홀구 문학동 376-1  37.437404  126.682702   \n",
       "3       미추홀구청  인천광역시 미추홀구 숭의동 131-1  37.463607  126.650329   \n",
       "4  용현금호2차 아파트    인천광역시 미추홀구 용현동 647  37.448606  126.633278   \n",
       "\n",
       "                         geometry  \n",
       "0  POINT (928813.479 1938472.185)  \n",
       "1  POINT (926185.960 1941946.941)  \n",
       "2  POINT (927698.079 1937895.269)  \n",
       "3  POINT (924860.395 1940827.647)  \n",
       "4  POINT (923337.168 1939177.098)  "
      ]
     },
     "execution_count": 89,
     "metadata": {},
     "output_type": "execute_result"
    }
   ],
   "source": [
    "#충전소 위치의 데이터를 통해 위도, 경도로 이루어졌던 좌표가 EPSG5179 좌표로 변환된 것을 확인할 수 있다\n",
    "charger_point.head()"
   ]
  },
  {
   "cell_type": "code",
   "execution_count": 33,
   "id": "3f65256c",
   "metadata": {
    "scrolled": true
   },
   "outputs": [
    {
     "data": {
      "image/png": "[encoded data removed]",
      "text/plain": [
       "<Figure size 576x576 with 1 Axes>"
      ]
     },
     "metadata": {
      "needs_background": "light"
     },
     "output_type": "display_data"
    }
   ],
   "source": [
    "#미추홀구에 존재하는 기존 충전소 위치와 격자 중심점을 시각화\n",
    "ax = polygon_area.plot(column=\"SGG_OID\", figsize=(8,8), alpha=0.8)\n",
    "charger_point.plot(ax=ax, marker='o', color='red', label='existing charger')\n",
    "mid_point.plot(ax=ax, marker='x', color='blue', label='mid point')\n",
    "ax.set_title(\"미추홀구\", fontsize=20)\n",
    "ax.set_axis_off()\n",
    "plt.legend()\n",
    "plt.show()\n"
   ]
  },
  {
   "cell_type": "code",
   "execution_count": 5,
   "id": "84ca6407",
   "metadata": {},
   "outputs": [],
   "source": [
    "#출처: https://gis.stackexchange.com/questions/207731/generating-random-coordinates-in-multipolygon-in-python\n",
    "#2차원 데이터 안에 속하는 좌표(POINT)를 랜덤하게 생성하는 알고리즘\n",
    "import random\n",
    "from shapely.geometry import Point\n",
    "from shapely.geometry import Polygon\n",
    "\n",
    "\n",
    "def generate_random(number, polygon):\n",
    "    points=[]\n",
    "    minx, miny, maxx, maxy = polygon.bounds\n",
    "    while len(points) < number:\n",
    "        pnt = Point(random.uniform(minx, maxx), random.uniform(miny, maxy))\n",
    "        if polygon.contains(pnt):\n",
    "            points.append(pnt)\n",
    "    return points"
   ]
  },
  {
   "cell_type": "code",
   "execution_count": 83,
   "id": "9d18a6a7",
   "metadata": {
    "scrolled": true
   },
   "outputs": [
    {
     "data": {
      "image/png": "[encoded data removed]",
      "text/plain": [
       "<Figure size 576x576 with 1 Axes>"
      ]
     },
     "metadata": {
      "needs_background": "light"
     },
     "output_type": "display_data"
    }
   ],
   "source": [
    "#미추홀구에 속하는 POINT 10개를 랜덤생성한 후 이를 기존 충전소와 함께 시각화 하였다.\n",
    "#이 첫번째 POINT들이 유전 알고리즘에서 첫 세대로 작용할 예정이다.\n",
    "random_points ={'geometry':generate_random(10,polygon_area.geometry.unary_union)}\n",
    "\n",
    "parent = DataFrame(random_points)\n",
    "parent= gpd.GeoDataFrame(parent, geometry='geometry')\n",
    "\n",
    "ax = polygon_area.plot(column=\"SGG_OID\", figsize=(8,8), alpha=0.8)\n",
    "parent.plot(ax=ax, marker='v', color='black', label='parent')\n",
    "charger_point.plot(ax=ax, marker='o', color='red', label='existing charger')\n",
    "ax.set_title(\"미추홀구\", fontsize=20)\n",
    "ax.set_axis_off()\n",
    "plt.legend()\n",
    "plt.show()"
   ]
  },
  {
   "cell_type": "code",
   "execution_count": 58,
   "id": "2a122369",
   "metadata": {},
   "outputs": [
    {
     "data": {
      "text/plain": [
       "[2.3668472477301528,\n",
       " 2.2036058909284404,\n",
       " 2.3591234028458485,\n",
       " 2.2226709355211316,\n",
       " 2.2064742707795246,\n",
       " 2.3128750907546554,\n",
       " 2.216566364592437,\n",
       " 2.32159498318698,\n",
       " 2.183559426478051,\n",
       " 2.2982088110219476]"
      ]
     },
     "execution_count": 58,
     "metadata": {},
     "output_type": "execute_result"
    }
   ],
   "source": [
    "#새로운 충전소가 설치될 시 격자 중심점과 최근접 충전소 거리(km)를 적절하게 바꿔주는 알고리즘 \n",
    "\n",
    "#Raw Data는 계속해서 사용해야 하므로 얕은 복사를 통해 복사된 데이터가 변경 되어도 Raw Data의 값은 변경되지 않도록 만든다\n",
    "copy_distance=copy.copy((data['최근접 충전소 거리(km)'].values.tolist())) #Shallow copy of datafame to list\n",
    "\n",
    "#최근접 충전소 거리 중에서 가장 큰 값을 가지는 값을 통해 후보군을 좁힌다.\n",
    "longest_distance=max(data['최근접 충전소 거리(km)'])\n",
    "\n",
    "def distance_change(individual):\n",
    "    global copy_distance\n",
    "    distance_weight=[]\n",
    "    for i in range(individual.shape[0]): #individual.shape[0]: individual dataframe의 행 갯수\n",
    "        for j in range(mid_point.shape[0]): \n",
    "            if(individual['geometry'][i].buffer(float(longest_distance)*1000).contains(mid_point['geometry'][j])):\n",
    "                if(float(copy_distance[j])>round(individual['geometry'][i].distance(mid_point['geometry'][j]))*0.001):\n",
    "                    copy_distance[j]=round(individual['geometry'][i].distance(mid_point['geometry'][j]))*0.001\n",
    "        norm_distance=[(k-min(copy_distance))/(max(copy_distance)-min(copy_distance)) for k in copy_distance]\n",
    "        distance_weight.append(sum(norm_distance)*0.204) #0.204: 충전소 거리의 weight\n",
    "        del copy_distance\n",
    "        del norm_distance\n",
    "        copy_distance = copy.copy((data['최근접 충전소 거리(km)'].values.tolist()))\n",
    "        \n",
    "    \n",
    "    return distance_weight #각 individual이 생성되는 데에 따라 갱신되는 최근접 충전소 거리*weight 반환\n",
    "\n",
    "\n",
    "distance_change(parent)\n"
   ]
  },
  {
   "cell_type": "code",
   "execution_count": 8,
   "id": "cf12a4a3",
   "metadata": {},
   "outputs": [
    {
     "data": {
      "text/plain": [
       "5.836827816026265"
      ]
     },
     "execution_count": 8,
     "metadata": {},
     "output_type": "execute_result"
    }
   ],
   "source": [
    "#충전소가 새로 지어질 시에 변하는 데이터는 최근접 충전소 거리이므로 이를 제외한 나머지는 변하지 않는 상수로 취급된다.\n",
    "constant_potential=sum(norm_data['입지잠재력점수(거리 제외)'].dropna(axis=0))\n",
    "constant_potential"
   ]
  },
  {
   "cell_type": "code",
   "execution_count": 84,
   "id": "ce5636af",
   "metadata": {
    "scrolled": true
   },
   "outputs": [
    {
     "data": {
      "text/plain": [
       "([7.964234463440889],\n",
       " [geometry    POINT (928133.404 1939185.856)\n",
       "  Name: 1, dtype: geometry])"
      ]
     },
     "execution_count": 84,
     "metadata": {},
     "output_type": "execute_result"
    }
   ],
   "source": [
    "#distance_change(individual)함수에 따른 갱신된 가중치와 constant_potential의 합 중 가장 적은 값과 그 값을 가지는 Point의 좌표를 저장\n",
    "min_potential=[]\n",
    "min_point = []\n",
    "def save_min_point(individual):\n",
    "    global min_potential\n",
    "    global min_point\n",
    "    global constant_potential\n",
    "    min_potential.append(min(distance_change(individual))+constant_potential)\n",
    "    min_point.append(individual.iloc[distance_change(individual).index(min(distance_change(individual)))])\n",
    "    return min_potential, min_point\n",
    "\n",
    "save_min_point(parent)"
   ]
  },
  {
   "cell_type": "code",
   "execution_count": 60,
   "id": "b2792153",
   "metadata": {},
   "outputs": [
    {
     "data": {
      "text/plain": [
       "[0.09579154468478882,\n",
       " 0.19867925016169116,\n",
       " 0.29478441940358485,\n",
       " 0.39678960166861243,\n",
       " 0.499543554839756,\n",
       " 0.5975704456127617,\n",
       " 0.6998565569219986,\n",
       " 0.7975152594669946,\n",
       " 0.9013475395248378,\n",
       " 1.0]"
      ]
     },
     "execution_count": 60,
     "metadata": {},
     "output_type": "execute_result"
    }
   ],
   "source": [
    "#거리를 토대로 fitness 함수를 만들어 rullet wheel을 생성하는 알고리즘\n",
    "#출처: 이원재, 김학영(2005), \"Python 을 사용한 유전 알고리즘 구현\", 제23회 한국정보처리학회 춘계학술발표대회 논문집 제12권 제1호 (2005. 5), pp.473~476\n",
    "import operator\n",
    "from functools import reduce\n",
    "def fitness(individual):\n",
    "    fitness_list =[]\n",
    "    for i in range(len(individual)):\n",
    "        #거리는 낮아질수록 더욱 접한한 해에 근접하기 때문에 분모로 각 개체의 거리*weight를 둔다 \n",
    "        fitness_list.append(sum(distance_change(individual))/distance_change(individual)[i]) \n",
    "    \n",
    "#누적확률변수 리스트를 만들어 각 유전자의 fitness값에 따라 0부터 1까지 rullet wheel을 생산한다.\n",
    "#즉 fitness값이 높을수록 리스트 내의 공간을 더 많이 점유한다.\n",
    "#이에 따라 0부터 1까지의 난수를 생성할 시, fitness값이 높을수록 선택될 확률이 높아진다.\n",
    "    fitness_sum= reduce(operator.add, fitness_list)\n",
    "    prob_list = map( (lambda x: x/fitness_sum), fitness_list)\n",
    "    cum_value = 0\n",
    "    cum_prob_list = [ ]\n",
    "    for prob in prob_list:\n",
    "        cum_prob_list.append( cum_value + prob )\n",
    "        cum_value += prob\n",
    "    \n",
    "    cum_prob_list[-1] = 1.0 #리스트[-1]은 제일 마지막에 있는 원소를 나타내므로 누적확률리스트에 적합하게 1을 할당한다.\n",
    "\n",
    "    return cum_prob_list\n",
    "fitness(parent)"
   ]
  },
  {
   "cell_type": "code",
   "execution_count": 11,
   "id": "c106b19e",
   "metadata": {},
   "outputs": [
    {
     "data": {
      "text/plain": [
       "[0, 6, 2, 5, 2, 7, 4, 5, 8, 2]"
      ]
     },
     "execution_count": 11,
     "metadata": {},
     "output_type": "execute_result"
    }
   ],
   "source": [
    "#출처: 이원재, 김학영(2005), \"Python 을 사용한 유전 알고리즘 구현\", 제23회 한국정보처리학회 춘계학술발표대회 논문집 제12권 제1호 (2005. 5), pp.473~476\n",
    "#좋은 품질일수록 리스트에서 더 넓은 공간을 차지하므로 선택될 확률이 커진다.\n",
    "import random\n",
    "def selection(cum_prob_list, size):\n",
    "    selected = [] \n",
    "    number = size\n",
    "    for i in range(number):\n",
    "        rn = random.random() #0 이상 1 미만의 숫자 중에서 random으로 하나 뽑아서 반환하는 함수 호출\n",
    "        for j, cum_prob in enumerate(cum_prob_list):\n",
    "            if rn<= cum_prob:\n",
    "                selected.append(j) #j번째에서 rn<=cum_prob일 경우 selected 리스트에 j를 입력하고 끝낸 후 다시 처음 반복문 실행. \n",
    "                break\n",
    "    return selected\n",
    "\n",
    "selection(fitness(parent), 10)\n",
    "\n",
    "\n",
    "#아래 실제 예시를 통해 어떠한 순서의 값들이 선택되었는지 확인할 수 있다."
   ]
  },
  {
   "cell_type": "code",
   "execution_count": 12,
   "id": "a387a3a2",
   "metadata": {},
   "outputs": [],
   "source": [
    "#유전 알고리즘의 경우 부모 세대의 특성을 이어받기 때문에 지역적인 최적해로 빠질 가능성이 존재한다.\n",
    "#이를 돌연변이 알고리즘을 통해 해결할 수 있다.\n",
    "#프로젝트에서 돌연변이는 미추홀구에 속하는 POINT를 랜덤하게 생성하는 것으로 하였다.\n",
    "def mutation(number):\n",
    "    random_mutation ={'geometry':generate_random(number,polygon_area.geometry.unary_union)}\n",
    "\n",
    "    mutation_point = DataFrame(random_mutation)\n",
    "    mutation_point = gpd.GeoDataFrame(mutation_point, geometry='geometry')\n",
    "    return mutation_point"
   ]
  },
  {
   "cell_type": "code",
   "execution_count": 102,
   "id": "4d64fafd",
   "metadata": {},
   "outputs": [
    {
     "data": {
      "text/html": [
       "<div>\n",
       "<style scoped>\n",
       "    .dataframe tbody tr th:only-of-type {\n",
       "        vertical-align: middle;\n",
       "    }\n",
       "\n",
       "    .dataframe tbody tr th {\n",
       "        vertical-align: top;\n",
       "    }\n",
       "\n",
       "    .dataframe thead th {\n",
       "        text-align: right;\n",
       "    }\n",
       "</style>\n",
       "<table border=\"1\" class=\"dataframe\">\n",
       "  <thead>\n",
       "    <tr style=\"text-align: right;\">\n",
       "      <th></th>\n",
       "      <th>geometry</th>\n",
       "    </tr>\n",
       "  </thead>\n",
       "  <tbody>\n",
       "    <tr>\n",
       "      <th>0</th>\n",
       "      <td>POINT (925059.000 1939828.432)</td>\n",
       "    </tr>\n",
       "    <tr>\n",
       "      <th>1</th>\n",
       "      <td>POINT (925432.683 1942486.453)</td>\n",
       "    </tr>\n",
       "    <tr>\n",
       "      <th>2</th>\n",
       "      <td>POINT (927021.792 1938701.727)</td>\n",
       "    </tr>\n",
       "    <tr>\n",
       "      <th>3</th>\n",
       "      <td>POINT (926143.920 1939360.320)</td>\n",
       "    </tr>\n",
       "    <tr>\n",
       "      <th>4</th>\n",
       "      <td>POINT (924242.767 1937962.648)</td>\n",
       "    </tr>\n",
       "    <tr>\n",
       "      <th>5</th>\n",
       "      <td>POINT (927415.712 1937906.665)</td>\n",
       "    </tr>\n",
       "    <tr>\n",
       "      <th>6</th>\n",
       "      <td>POINT (925272.606 1941501.569)</td>\n",
       "    </tr>\n",
       "    <tr>\n",
       "      <th>7</th>\n",
       "      <td>POINT (927591.793 1940796.848)</td>\n",
       "    </tr>\n",
       "    <tr>\n",
       "      <th>8</th>\n",
       "      <td>POINT (927811.804 1941486.137)</td>\n",
       "    </tr>\n",
       "    <tr>\n",
       "      <th>9</th>\n",
       "      <td>POINT (923706.348 1937630.081)</td>\n",
       "    </tr>\n",
       "  </tbody>\n",
       "</table>\n",
       "</div>"
      ],
      "text/plain": [
       "                         geometry\n",
       "0  POINT (925059.000 1939828.432)\n",
       "1  POINT (925432.683 1942486.453)\n",
       "2  POINT (927021.792 1938701.727)\n",
       "3  POINT (926143.920 1939360.320)\n",
       "4  POINT (924242.767 1937962.648)\n",
       "5  POINT (927415.712 1937906.665)\n",
       "6  POINT (925272.606 1941501.569)\n",
       "7  POINT (927591.793 1940796.848)\n",
       "8  POINT (927811.804 1941486.137)\n",
       "9  POINT (923706.348 1937630.081)"
      ]
     },
     "execution_count": 102,
     "metadata": {},
     "output_type": "execute_result"
    }
   ],
   "source": [
    "parent"
   ]
  },
  {
   "cell_type": "code",
   "execution_count": 13,
   "id": "69cbbb4c",
   "metadata": {},
   "outputs": [],
   "source": [
    "#fitness함수에 따른 selection 후 반경 buffer_size(m) 내 임의의 점 재생산\n",
    "#(size)개의 부모 세대를 선택하여 이 부모 세대의 반경 buffer_size(m)내에 point를 random재생산.\n",
    "\n",
    "def reproduction(individual, selected, size, buffer_size):\n",
    "    reproduct= gpd.GeoSeries()\n",
    "    reproduct_list=[]\n",
    "    for i in range(size): \n",
    "        circle=gpd.GeoSeries(individual.iloc[selected[i]][0].buffer(buffer_size))\n",
    "        reproduct = reproduct.geometry.append(circle.geometry)\n",
    "    for i in range(size):\n",
    "        reproduct_list.append(generate_random(1, reproduct.iloc[i])[0])\n",
    "\n",
    "    random_points_reproduct={'geometry': reproduct_list}\n",
    "    reproduct_df=DataFrame(random_points_reproduct)\n",
    "    reproduct_df=gpd.GeoDataFrame(reproduct_df, geometry='geometry')\n",
    "    \n",
    "    return reproduct_df\n",
    "\n",
    "\n"
   ]
  },
  {
   "cell_type": "code",
   "execution_count": 85,
   "id": "d9a91907",
   "metadata": {},
   "outputs": [
    {
     "name": "stdout",
     "output_type": "stream",
     "text": [
      "반경(m)과 반복 횟수를 공백을 기준으로 입력하세요\n",
      "200 20\n",
      "생성하고 싶은 자손의 개수와 돌연변이의 개수를 공백을 기준으로 입력하세요\n",
      "7 3\n"
     ]
    }
   ],
   "source": [
    "ancestor = parent\n",
    "print(\"반경(m)과 반복 횟수를 공백을 기준으로 입력하세요\")\n",
    "buffer_size, iterator  = map(int, input().split())\n",
    "print(\"생성하고 싶은 자손의 개수와 돌연변이의 개수를 공백을 기준으로 입력하세요\")\n",
    "num_descendant, num_mutation  = map(int, input().split())\n",
    "\n",
    "for i in range(iterator):\n",
    "    distance_change(ancestor)\n",
    "    save_min_point(ancestor)\n",
    "    fitness(ancestor)\n",
    "    selection(fitness(ancestor), num_descendant)\n",
    "    ancestor = reproduction(ancestor, selection(fitness(ancestor), num_descendant), num_descendant, buffer_size).append(mutation(num_mutation), ignore_index=True)\n"
   ]
  },
  {
   "cell_type": "code",
   "execution_count": 86,
   "id": "26ce1ebc",
   "metadata": {
    "scrolled": true
   },
   "outputs": [
    {
     "data": {
      "image/png": "[encoded data removed]",
      "text/plain": [
       "<Figure size 576x576 with 1 Axes>"
      ]
     },
     "metadata": {
      "needs_background": "light"
     },
     "output_type": "display_data"
    }
   ],
   "source": [
    "#가장 마지막 자손들과 기존 충전소를 시각화 하였다.\n",
    "ax = polygon_area.plot(column=\"SGG_OID\", figsize=(8,8), alpha=0.8)\n",
    "ancestor.plot(ax=ax, marker='v', color='black', label='last descendant')\n",
    "charger_point.plot(ax=ax, marker='o', color='red', label='existing charger')\n",
    "ax.set_title(\"미추홀구\", fontsize=20)\n",
    "ax.set_axis_off()\n",
    "plt.legend()\n",
    "plt.show()"
   ]
  },
  {
   "cell_type": "code",
   "execution_count": 87,
   "id": "9e266cc3",
   "metadata": {},
   "outputs": [
    {
     "data": {
      "text/plain": [
       "7.950791005740133"
      ]
     },
     "execution_count": 87,
     "metadata": {},
     "output_type": "execute_result"
    }
   ],
   "source": [
    "#자손들 중에서 가장 적은 입지 잠재력 점수 \n",
    "min(min_potential)"
   ]
  },
  {
   "cell_type": "code",
   "execution_count": 74,
   "id": "78aecae3",
   "metadata": {
    "scrolled": true
   },
   "outputs": [
    {
     "data": {
      "image/png": "[encoded data removed]",
      "text/plain": [
       "<Figure size 576x576 with 1 Axes>"
      ]
     },
     "metadata": {
      "needs_background": "light"
     },
     "output_type": "display_data"
    }
   ],
   "source": [
    "#자손들 중 가장 적은 입지 잠재력 점수를 가지는 point들과 기존 충전소를 시각화하였다.\n",
    "array = []\n",
    "for i in range(len(min_point)):\n",
    "    array.append(min_point[i]['geometry'])\n",
    "\n",
    "min_points ={'geometry':array}\n",
    "min_points_df = DataFrame(min_points)\n",
    "min_points_df= gpd.GeoDataFrame(min_points_df, geometry='geometry')\n",
    "\n",
    "ax = polygon_area.plot(column=\"SGG_OID\", figsize=(8,8), alpha=0.8)\n",
    "min_points_df.plot(ax=ax, marker='v', color='black', label='min_point')\n",
    "charger_point.plot(ax=ax, marker='o', color='red', label='existing charger')\n",
    "ax.set_title(\"미추홀구\", fontsize=20)\n",
    "ax.set_axis_off()\n",
    "plt.legend()\n",
    "plt.show()"
   ]
  },
  {
   "cell_type": "code",
   "execution_count": 88,
   "id": "14c25909",
   "metadata": {
    "scrolled": true
   },
   "outputs": [
    {
     "data": {
      "text/plain": [
       "geometry    POINT (926449.237 1939351.837)\n",
       "Name: 14, dtype: geometry"
      ]
     },
     "execution_count": 88,
     "metadata": {},
     "output_type": "execute_result"
    }
   ],
   "source": [
    "optimal=min_points_df.iloc[min_potential.index(min(min_potential))]\n",
    "optimal_df= gpd.GeoDataFrame(geometry=optimal)\n",
    "optimal"
   ]
  },
  {
   "cell_type": "code",
   "execution_count": 82,
   "id": "dcea6bea",
   "metadata": {},
   "outputs": [
    {
     "data": {
      "image/png": "[encoded data removed]",
      "text/plain": [
       "<Figure size 576x576 with 1 Axes>"
      ]
     },
     "metadata": {
      "needs_background": "light"
     },
     "output_type": "display_data"
    }
   ],
   "source": [
    "#모든 point들 중 가장 적은 입지잠재력 점수를 가지는 point와 기존 충전소를 시각화하였다.\n",
    "ax = polygon_area.plot(column=\"SGG_OID\", figsize=(8,8), alpha=0.8)\n",
    "optimal_df.plot(ax=ax, marker='v', color='black', label='optimal place')\n",
    "\n",
    "charger_point.plot(ax=ax, marker='o', color='red', label='existing charger')\n",
    "ax.set_title(\"미추홀구\", fontsize=20)\n",
    "ax.set_axis_off()\n",
    "plt.legend()\n",
    "plt.show()"
   ]
  }
 ],
 "metadata": {
  "kernelspec": {
   "display_name": "Python 3 (ipykernel)",
   "language": "python",
   "name": "python3"
  },
  "language_info": {
   "codemirror_mode": {
    "name": "ipython",
    "version": 3
   },
   "file_extension": ".py",
   "mimetype": "text/x-python",
   "name": "python",
   "nbconvert_exporter": "python",
   "pygments_lexer": "ipython3",
   "version": "3.8.12"
  }
 },
 "nbformat": 4,
 "nbformat_minor": 5
}
